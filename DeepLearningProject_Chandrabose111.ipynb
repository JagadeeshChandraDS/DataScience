{
 "cells": [
  {
   "cell_type": "markdown",
   "metadata": {
    "colab_type": "text",
    "id": "wkQg1p4oBYg0"
   },
   "source": [
    "# Deep Learning Project: Pet Classifier using CNN\n",
    "\n",
    "Prepration\n",
    "- Extract the ipynb file and the data in the same folder\n",
    "\n",
    "Data Set\n",
    "- A production grade program as 10,000 training images\n",
    "- This is a small program with 20 images of cats and 20 images of dogs. \n",
    "- The evaluation set has 10 images of cats and 10 images of dogs\n",
    "\n",
    "Runs\n",
    "- The student is expected to run the 100-300 training step\n",
    "- A production grade code would have about 20k-50k training steps"
   ]
  },
  {
   "cell_type": "markdown",
   "metadata": {
    "colab_type": "text",
    "id": "ZA7wAV_hBYg3"
   },
   "source": [
    "## Import modules"
   ]
  },
  {
   "cell_type": "code",
   "execution_count": 0,
   "metadata": {
    "colab": {},
    "colab_type": "code",
    "id": "5wXskiQtBYg6"
   },
   "outputs": [],
   "source": [
    "from __future__ import absolute_import\n",
    "from __future__ import division\n",
    "from __future__ import print_function\n",
    "from sklearn.metrics import confusion_matrix\n",
    "import os\n",
    "import cv2\n",
    "import glob\n",
    "import matplotlib.pyplot as plt\n",
    "import numpy as np\n",
    "import tensorflow as tf\n",
    "import random\n",
    "import sys\n"
   ]
  },
  {
   "cell_type": "code",
   "execution_count": 39,
   "metadata": {
    "colab": {
     "base_uri": "https://localhost:8080/",
     "height": 35
    },
    "colab_type": "code",
    "id": "MdObpOgPBhtO",
    "outputId": "9d249a78-c403-4692-b22c-d3a399245993"
   },
   "outputs": [
    {
     "name": "stdout",
     "output_type": "stream",
     "text": [
      "Drive already mounted at /content/gdrive; to attempt to forcibly remount, call drive.mount(\"/content/gdrive\", force_remount=True).\n"
     ]
    }
   ],
   "source": [
    "from google.colab import drive\n",
    "\n",
    "drive.mount('/content/gdrive')"
   ]
  },
  {
   "cell_type": "code",
   "execution_count": 40,
   "metadata": {
    "colab": {
     "base_uri": "https://localhost:8080/",
     "height": 35
    },
    "colab_type": "code",
    "id": "JAUYf_QqBuCW",
    "outputId": "692cc40e-9f14-4662-afdd-2a69ec275bb4"
   },
   "outputs": [
    {
     "name": "stdout",
     "output_type": "stream",
     "text": [
      " \u001b[0m\u001b[01;34mdata\u001b[0m/  'DeepLearningProject - Chandrabose111.ipynb'\n"
     ]
    }
   ],
   "source": [
    "ls '/content/gdrive/My Drive/DLProj/'"
   ]
  },
  {
   "cell_type": "code",
   "execution_count": 0,
   "metadata": {
    "colab": {},
    "colab_type": "code",
    "id": "NSILN93_Biu3"
   },
   "outputs": [],
   "source": [
    "\n",
    "# To support both python 2 and python 3\n",
    "from __future__ import division, print_function, unicode_literals\n",
    "\n",
    "# to make this notebook's output stable across runs\n",
    "def reset_graph(seed=42):\n",
    "    tf.reset_default_graph()\n",
    "    tf.set_random_seed(seed)\n",
    "    np.random.seed(seed)"
   ]
  },
  {
   "cell_type": "markdown",
   "metadata": {
    "colab_type": "text",
    "id": "FSnEJxVwBYhF"
   },
   "source": [
    "### Set hyper parameters\n",
    "- Run the program with three num_steps : 100,200,300"
   ]
  },
  {
   "cell_type": "code",
   "execution_count": 0,
   "metadata": {
    "colab": {},
    "colab_type": "code",
    "id": "sfzmVB5FBYhG"
   },
   "outputs": [],
   "source": [
    "reset_graph()\n",
    "img_size = 32\n",
    "img_shape = (img_size, img_size)\n",
    "labels = {'cats': 0, 'dogs': 1}\n",
    "fc_size=32 #size of the output of final FC layer\n",
    "num_steps=300 #Try 100, 200, 300. number of steps that training data should be looped. Usually 20K\n",
    "tf.logging.set_verbosity(tf.logging.INFO)"
   ]
  },
  {
   "cell_type": "markdown",
   "metadata": {
    "colab_type": "text",
    "id": "UoXziIh8BYhL"
   },
   "source": [
    "## Reading the image dataset"
   ]
  },
  {
   "cell_type": "code",
   "execution_count": 43,
   "metadata": {
    "colab": {
     "base_uri": "https://localhost:8080/",
     "height": 251
    },
    "colab_type": "code",
    "id": "Ykj6K_sZBYhM",
    "outputId": "a715eba9-591a-4a48-fcff-b938c1542b3e"
   },
   "outputs": [
    {
     "name": "stdout",
     "output_type": "stream",
     "text": [
      "length of train image set 40\n",
      "X_data shape: (40, 32, 32, 3)\n",
      "y_data shape: (40,)\n"
     ]
    },
    {
     "data": {
      "image/png": "[encoded data removed]",
      "text/plain": [
       "<Figure size 576x396 with 1 Axes>"
      ]
     },
     "metadata": {
      "tags": []
     },
     "output_type": "display_data"
    }
   ],
   "source": [
    "def read_images_classes(basepath,imgSize=img_size):\n",
    "    image_stack = []\n",
    "    label_stack = []\n",
    "\n",
    "    for counter, l in enumerate(labels):\n",
    "        path = os.path.join(basepath, l,'*g')\n",
    "        for img in glob.glob(path):\n",
    "            image = cv2.imread(img)\n",
    "            im_resize = cv2.resize(image,(img_shape), interpolation=cv2.INTER_CUBIC)\n",
    "            image_stack.append(im_resize)\n",
    "            label_stack.append(labels[l])            \n",
    "    return np.array(image_stack), np.array(label_stack)\n",
    "\n",
    "X_train, y_train = read_images_classes('/content/gdrive/My Drive/DLProj/data/train')\n",
    "X_test, y_test = read_images_classes('/content/gdrive/My Drive/DLProj/data/test')\n",
    "\n",
    "#test a sample image\n",
    "print('length of train image set',len(X_train))\n",
    "print('X_data shape:', X_train.shape)\n",
    "print('y_data shape:', y_train.shape)\n",
    "fig1 = plt.figure() \n",
    "ax1 = fig1.add_subplot(2,2,1) \n",
    "img = cv2.resize(X_train[0],(32,32), interpolation=cv2.INTER_CUBIC)\n",
    "ax1.imshow(cv2.cvtColor(img, cv2.COLOR_BGR2RGB))\n",
    "plt.title(y_train[0])\n",
    "plt.show()"
   ]
  },
  {
   "cell_type": "code",
   "execution_count": 44,
   "metadata": {
    "colab": {
     "base_uri": "https://localhost:8080/",
     "height": 5339
    },
    "colab_type": "code",
    "id": "Tq8H-capHQA4",
    "outputId": "086cd43a-6f98-4226-dfa7-07fcea79400d"
   },
   "outputs": [
    {
     "data": {
      "text/plain": [
       "array([[[[ 86,  90,  91],\n",
       "         [ 40,  61,  83],\n",
       "         [ 42,  50,  59],\n",
       "         ...,\n",
       "         [110, 112, 106],\n",
       "         [102, 104,  98],\n",
       "         [ 93,  93,  87]],\n",
       "\n",
       "        [[ 87,  90,  94],\n",
       "         [152, 159, 184],\n",
       "         [184, 174, 196],\n",
       "         ...,\n",
       "         [119, 119, 113],\n",
       "         [112, 112, 106],\n",
       "         [103, 103,  97]],\n",
       "\n",
       "        [[142, 140, 139],\n",
       "         [142, 141, 146],\n",
       "         [142, 141, 154],\n",
       "         ...,\n",
       "         [128, 128, 122],\n",
       "         [122, 122, 116],\n",
       "         [111, 111, 105]],\n",
       "\n",
       "        ...,\n",
       "\n",
       "        [[ 96, 148, 178],\n",
       "         [100, 153, 180],\n",
       "         [108, 163, 194],\n",
       "         ...,\n",
       "         [ 66,  73,  74],\n",
       "         [ 58,  66,  65],\n",
       "         [ 47,  58,  62]],\n",
       "\n",
       "        [[ 85, 135, 165],\n",
       "         [ 94, 144, 171],\n",
       "         [ 99, 154, 185],\n",
       "         ...,\n",
       "         [128, 129, 125],\n",
       "         [117, 116, 106],\n",
       "         [ 56,  63,  65]],\n",
       "\n",
       "        [[ 79, 129, 156],\n",
       "         [ 80, 134, 169],\n",
       "         [ 85, 136, 169],\n",
       "         ...,\n",
       "         [130, 129, 125],\n",
       "         [111, 111, 106],\n",
       "         [ 42,  47,  48]]],\n",
       "\n",
       "\n",
       "       [[[169, 188, 196],\n",
       "         [155, 182, 192],\n",
       "         [189, 206, 219],\n",
       "         ...,\n",
       "         [160, 177, 190],\n",
       "         [159, 175, 187],\n",
       "         [160, 176, 189]],\n",
       "\n",
       "        [[188, 195, 202],\n",
       "         [139, 153, 165],\n",
       "         [143, 153, 161],\n",
       "         ...,\n",
       "         [168, 187, 200],\n",
       "         [172, 189, 202],\n",
       "         [160, 176, 192]],\n",
       "\n",
       "        [[152, 175, 187],\n",
       "         [224, 233, 237],\n",
       "         [183, 198, 206],\n",
       "         ...,\n",
       "         [173, 196, 208],\n",
       "         [171, 185, 197],\n",
       "         [169, 184, 195]],\n",
       "\n",
       "        ...,\n",
       "\n",
       "        [[ 80,  96, 108],\n",
       "         [106, 125, 136],\n",
       "         [149, 168, 178],\n",
       "         ...,\n",
       "         [137, 152, 161],\n",
       "         [169, 185, 192],\n",
       "         [166, 179, 187]],\n",
       "\n",
       "        [[165, 183, 194],\n",
       "         [153, 167, 179],\n",
       "         [134, 152, 159],\n",
       "         ...,\n",
       "         [169, 184, 193],\n",
       "         [175, 193, 200],\n",
       "         [123, 141, 148]],\n",
       "\n",
       "        [[171, 192, 203],\n",
       "         [147, 165, 172],\n",
       "         [135, 153, 160],\n",
       "         ...,\n",
       "         [180, 195, 204],\n",
       "         [198, 210, 214],\n",
       "         [168, 184, 191]]],\n",
       "\n",
       "\n",
       "       [[[145, 149, 160],\n",
       "         [164, 168, 179],\n",
       "         [166, 173, 186],\n",
       "         ...,\n",
       "         [139, 154, 162],\n",
       "         [ 92,  91, 132],\n",
       "         [137, 142, 152]],\n",
       "\n",
       "        [[147, 152, 161],\n",
       "         [171, 174, 188],\n",
       "         [172, 178, 191],\n",
       "         ...,\n",
       "         [133, 138, 153],\n",
       "         [168, 177, 187],\n",
       "         [164, 166, 174]],\n",
       "\n",
       "        [[150, 155, 164],\n",
       "         [172, 175, 189],\n",
       "         [174, 180, 193],\n",
       "         ...,\n",
       "         [181, 181, 211],\n",
       "         [185, 194, 208],\n",
       "         [172, 179, 192]],\n",
       "\n",
       "        ...,\n",
       "\n",
       "        [[161, 174, 189],\n",
       "         [ 46,  59,  67],\n",
       "         [122, 126, 135],\n",
       "         ...,\n",
       "         [ 24,  23,  23],\n",
       "         [ 85,  65,  62],\n",
       "         [ 81,  59,  60]],\n",
       "\n",
       "        [[ 35,  36,  40],\n",
       "         [ 21,  34,  42],\n",
       "         [ 88,  99, 107],\n",
       "         ...,\n",
       "         [ 36,  31,  33],\n",
       "         [ 34,  28,  27],\n",
       "         [ 69,  51,  50]],\n",
       "\n",
       "        [[ 12,  21,  20],\n",
       "         [ 14,  16,  20],\n",
       "         [ 15,  30,  34],\n",
       "         ...,\n",
       "         [ 15,  11,  12],\n",
       "         [ 12,  14,   6],\n",
       "         [ 19,  15,   9]]],\n",
       "\n",
       "\n",
       "       ...,\n",
       "\n",
       "\n",
       "       [[[109, 111, 109],\n",
       "         [ 81,  81,  81],\n",
       "         [122, 122, 122],\n",
       "         ...,\n",
       "         [140, 138, 137],\n",
       "         [144, 142, 141],\n",
       "         [158, 154, 153]],\n",
       "\n",
       "        [[ 78,  80,  80],\n",
       "         [109, 111, 111],\n",
       "         [131, 130, 132],\n",
       "         ...,\n",
       "         [148, 146, 146],\n",
       "         [155, 153, 152],\n",
       "         [152, 150, 149]],\n",
       "\n",
       "        [[ 84,  86,  86],\n",
       "         [ 91,  93,  93],\n",
       "         [ 83,  88,  89],\n",
       "         ...,\n",
       "         [139, 137, 137],\n",
       "         [147, 145, 144],\n",
       "         [132, 130, 129]],\n",
       "\n",
       "        ...,\n",
       "\n",
       "        [[130, 128, 127],\n",
       "         [130, 128, 127],\n",
       "         [112, 112, 112],\n",
       "         ...,\n",
       "         [132, 132, 132],\n",
       "         [131, 127, 126],\n",
       "         [149, 146, 142]],\n",
       "\n",
       "        [[151, 149, 148],\n",
       "         [133, 131, 130],\n",
       "         [107, 107, 107],\n",
       "         ...,\n",
       "         [132, 128, 127],\n",
       "         [155, 151, 150],\n",
       "         [127, 122, 119]],\n",
       "\n",
       "        [[125, 123, 122],\n",
       "         [149, 147, 146],\n",
       "         [112, 112, 112],\n",
       "         ...,\n",
       "         [134, 130, 129],\n",
       "         [149, 145, 144],\n",
       "         [136, 131, 128]]],\n",
       "\n",
       "\n",
       "       [[[ 48,  96, 129],\n",
       "         [ 87, 114, 123],\n",
       "         [ 96, 116, 121],\n",
       "         ...,\n",
       "         [ 99, 122, 137],\n",
       "         [100, 124, 136],\n",
       "         [100, 123, 139]],\n",
       "\n",
       "        [[111, 137, 151],\n",
       "         [100, 114, 117],\n",
       "         [100, 119, 126],\n",
       "         ...,\n",
       "         [ 97, 123, 134],\n",
       "         [ 96, 122, 128],\n",
       "         [101, 125, 137]],\n",
       "\n",
       "        [[155, 163, 164],\n",
       "         [168, 167, 160],\n",
       "         [159, 162, 162],\n",
       "         ...,\n",
       "         [ 95, 120, 130],\n",
       "         [ 99, 124, 132],\n",
       "         [ 99, 121, 133]],\n",
       "\n",
       "        ...,\n",
       "\n",
       "        [[226, 218, 201],\n",
       "         [222, 214, 197],\n",
       "         [210, 202, 185],\n",
       "         ...,\n",
       "         [ 88, 103, 101],\n",
       "         [ 83,  97, 103],\n",
       "         [ 87,  98, 102]],\n",
       "\n",
       "        [[218, 212, 192],\n",
       "         [220, 213, 194],\n",
       "         [214, 204, 186],\n",
       "         ...,\n",
       "         [ 86, 100, 106],\n",
       "         [ 83,  99,  98],\n",
       "         [ 83,  99,  98]],\n",
       "\n",
       "        [[222, 211, 191],\n",
       "         [216, 206, 186],\n",
       "         [218, 206, 188],\n",
       "         ...,\n",
       "         [ 79,  94,  95],\n",
       "         [ 81,  94, 102],\n",
       "         [ 79,  94,  97]]],\n",
       "\n",
       "\n",
       "       [[[ 38,  79, 127],\n",
       "         [  5,  47,  92],\n",
       "         [ 73, 113, 166],\n",
       "         ...,\n",
       "         [  0,   2,   2],\n",
       "         [ 39,  74, 118],\n",
       "         [ 62,  89, 124]],\n",
       "\n",
       "        [[ 34, 102, 124],\n",
       "         [ 43,  91, 128],\n",
       "         [ 59,  96, 146],\n",
       "         ...,\n",
       "         [  2,   2,   2],\n",
       "         [ 59,  79,  85],\n",
       "         [ 59,  89,  94]],\n",
       "\n",
       "        [[115, 154, 203],\n",
       "         [ 54,  92, 124],\n",
       "         [ 62, 104, 147],\n",
       "         ...,\n",
       "         [  1,   1,   1],\n",
       "         [  2,   5,   5],\n",
       "         [  4,  19,  27]],\n",
       "\n",
       "        ...,\n",
       "\n",
       "        [[213, 232, 233],\n",
       "         [230, 246, 243],\n",
       "         [215, 239, 237],\n",
       "         ...,\n",
       "         [222, 243, 244],\n",
       "         [210, 230, 231],\n",
       "         [194, 220, 220]],\n",
       "\n",
       "        [[230, 249, 248],\n",
       "         [232, 250, 249],\n",
       "         [234, 252, 251],\n",
       "         ...,\n",
       "         [228, 246, 247],\n",
       "         [216, 235, 238],\n",
       "         [195, 220, 219]],\n",
       "\n",
       "        [[221, 241, 242],\n",
       "         [221, 241, 242],\n",
       "         [230, 252, 250],\n",
       "         ...,\n",
       "         [228, 246, 245],\n",
       "         [223, 243, 244],\n",
       "         [216, 238, 236]]]], dtype=uint8)"
      ]
     },
     "execution_count": 44,
     "metadata": {
      "tags": []
     },
     "output_type": "execute_result"
    }
   ],
   "source": [
    "X_train.reshape(-1,32,32,3)"
   ]
  },
  {
   "cell_type": "markdown",
   "metadata": {
    "colab_type": "text",
    "id": "6CdAmugbBYhS"
   },
   "source": [
    "### Assignment: Define the tensorflow model\n",
    "\n",
    "The model should have the following layers\n",
    "- input later\n",
    "- conv layer 1 with 32 filters of kernel  size[5,5],\n",
    "- pooling layer 1 with pool size[2,2] and stride 2\n",
    "- conv layer 2 with 64 filters of kernel  size[5,5],\n",
    "- pooling layer 2 with pool size[2,2] and stride 2\n",
    "- dense layer whose output size is fixed in the hyper parameter: fc_size=32\n",
    "- drop out layer with droput probability 0.4\n",
    "- predict the class by doing a softmax on the output of the dropout layers\n",
    "\n",
    "Training\n",
    "- For training fefine the loss function and minimize it\n",
    "- For evaluation calculate the accuracy\n",
    "\n",
    "Reading Material\n",
    "- For ideas look at tensorflow layers tutorial"
   ]
  },
  {
   "cell_type": "markdown",
   "metadata": {
    "colab_type": "text",
    "id": "KIoYE8BuBYhU"
   },
   "source": [
    "##Defining the Layers"
   ]
  },
  {
   "cell_type": "code",
   "execution_count": 0,
   "metadata": {
    "colab": {},
    "colab_type": "code",
    "id": "MIegtWSpBYhV"
   },
   "outputs": [],
   "source": [
    "from tensorflow import keras\n",
    "x = tf.placeholder(dtype=tf.float64, shape=[None, 32, 32, 3])\n",
    "keep_prob = tf.placeholder(tf.float32)\n",
    "c1 = tf.layers.conv2d(inputs=x, activation=tf.nn.relu, filters=64, kernel_size=[5,5], padding='VALID', strides=1) #input to c1 is x\n",
    "p1 = tf.layers.max_pooling2d(inputs=c1, pool_size=[2,2], strides=2) #input to p1 is c1\n",
    "\n",
    "c2 = tf.layers.conv2d(inputs=p1, activation=tf.nn.relu, filters=32, kernel_size=[5,5], padding='VALID', strides=1) #input to c2 is p1\n",
    "p2 = tf.layers.max_pooling2d(inputs=c2, pool_size=[2,2], strides=2) #input to p2 is c2\n",
    "    \n",
    "f = tf.contrib.layers.flatten(p2) \n",
    " \n",
    "fc1 = tf.layers.dense(inputs=f, units=32, activation=tf.nn.relu)\n",
    "drop_out = tf.nn.dropout(fc1, rate=0.4)\n",
    "logits = tf.layers.dense(inputs = drop_out, units=2)  "
   ]
  },
  {
   "cell_type": "markdown",
   "metadata": {
    "colab_type": "text",
    "id": "AOtk2E-nYfi2"
   },
   "source": [
    "###Calculating Loss and Accuracy of The Model"
   ]
  },
  {
   "cell_type": "code",
   "execution_count": 0,
   "metadata": {
    "colab": {},
    "colab_type": "code",
    "id": "zboaFKmJILje"
   },
   "outputs": [],
   "source": [
    "y = tf.placeholder(dtype=tf.int64)\n",
    "loss = tf.nn.sparse_softmax_cross_entropy_with_logits(labels=y,logits=logits) # No need of onehot encodings\n",
    "\n",
    "correct_prediction = tf.equal(tf.argmax(logits, 1), y)\n",
    "accuracy = tf.reduce_mean(tf.cast(correct_prediction, tf.float32))\n",
    "\n",
    "optim = tf.train.AdamOptimizer(learning_rate=0.001)\n",
    "trainer = optim.minimize(loss)"
   ]
  },
  {
   "cell_type": "markdown",
   "metadata": {
    "colab_type": "text",
    "id": "KUelAJHaIkUk"
   },
   "source": [
    "###Training for 100 epochs/iterations :"
   ]
  },
  {
   "cell_type": "code",
   "execution_count": 48,
   "metadata": {
    "colab": {
     "base_uri": "https://localhost:8080/",
     "height": 364
    },
    "colab_type": "code",
    "id": "oRPqXc4EIxm6",
    "outputId": "285dcb1f-a2ce-450b-c233-e0880ed20367"
   },
   "outputs": [
    {
     "name": "stdout",
     "output_type": "stream",
     "text": [
      "Step 0 - Loss: 0.73 | Accuracy: 0.35\n",
      "Step 5 - Loss: 0.68 | Accuracy: 0.62\n",
      "Step 10 - Loss: 0.65 | Accuracy: 0.70\n",
      "Step 15 - Loss: 0.59 | Accuracy: 0.65\n",
      "Step 20 - Loss: 0.55 | Accuracy: 0.73\n",
      "Step 25 - Loss: 0.50 | Accuracy: 0.75\n",
      "Step 30 - Loss: 0.38 | Accuracy: 0.88\n",
      "Step 35 - Loss: 0.34 | Accuracy: 0.88\n",
      "Step 40 - Loss: 0.27 | Accuracy: 0.93\n",
      "Step 45 - Loss: 0.21 | Accuracy: 0.98\n",
      "Step 50 - Loss: 0.18 | Accuracy: 0.98\n",
      "Step 55 - Loss: 0.17 | Accuracy: 0.95\n",
      "Step 60 - Loss: 0.10 | Accuracy: 0.98\n",
      "Step 65 - Loss: 0.07 | Accuracy: 0.98\n",
      "Step 70 - Loss: 0.05 | Accuracy: 1.00\n",
      "Step 75 - Loss: 0.03 | Accuracy: 1.00\n",
      "Step 80 - Loss: 0.08 | Accuracy: 0.98\n",
      "Step 85 - Loss: 0.02 | Accuracy: 1.00\n",
      "Step 90 - Loss: 0.01 | Accuracy: 1.00\n",
      "Step 95 - Loss: 0.03 | Accuracy: 1.00\n"
     ]
    }
   ],
   "source": [
    "epochs = 100\n",
    "    \n",
    "sess = tf.Session()\n",
    "sess.run(tf.global_variables_initializer())\n",
    "\n",
    "for i in range(epochs):\n",
    "    sess.run([trainer], feed_dict={x:X_train/255., y:y_train, keep_prob:0.6})\n",
    "    [acc, l] = sess.run([accuracy, loss], feed_dict={x:X_train/255., y:y_train, keep_prob:1})\n",
    "    \n",
    "    if i%5==0:\n",
    "        print('Step %d - Loss: %.2f | Accuracy: %.2f'%(i,np.mean(l),acc))"
   ]
  },
  {
   "cell_type": "code",
   "execution_count": 49,
   "metadata": {
    "colab": {
     "base_uri": "https://localhost:8080/",
     "height": 35
    },
    "colab_type": "code",
    "id": "GbY5a4xsT5Cf",
    "outputId": "c7e425ef-e168-4e00-fe51-b4dc1430fe0f"
   },
   "outputs": [
    {
     "name": "stdout",
     "output_type": "stream",
     "text": [
      "0.6\n"
     ]
    }
   ],
   "source": [
    "# Evaluation & Final accuracy and loss for 100 iterations\n",
    "\n",
    "[yh] = sess.run([logits], feed_dict={x:X_train, y:y_train, keep_prob:1})\n",
    "pred_class_train = np.argmax(yh, axis=1)\n",
    "\n",
    "[yh_val] = sess.run([logits], feed_dict={x:X_test, keep_prob:1})\n",
    "pred_class_val = np.argmax(yh_val, axis=1)\n",
    "\n",
    "cm_val = confusion_matrix(y_true=y_test, y_pred=pred_class_val)\n",
    "acc_val = np.trace(cm_val)/np.sum(cm_val)\n",
    "print(acc_val)"
   ]
  },
  {
   "cell_type": "markdown",
   "metadata": {
    "colab_type": "text",
    "id": "kMSOubaQJF3-"
   },
   "source": [
    "###Training for 200 epochs/iterations :"
   ]
  },
  {
   "cell_type": "code",
   "execution_count": 50,
   "metadata": {
    "colab": {
     "base_uri": "https://localhost:8080/",
     "height": 711
    },
    "colab_type": "code",
    "id": "y25aO3tHJqap",
    "outputId": "892b1129-1c4a-4f68-e28b-28da034f37ca"
   },
   "outputs": [
    {
     "name": "stdout",
     "output_type": "stream",
     "text": [
      "Step 0 - Loss: 0.73 | Accuracy: 0.35\n",
      "Step 5 - Loss: 0.68 | Accuracy: 0.62\n",
      "Step 10 - Loss: 0.65 | Accuracy: 0.70\n",
      "Step 15 - Loss: 0.59 | Accuracy: 0.65\n",
      "Step 20 - Loss: 0.55 | Accuracy: 0.73\n",
      "Step 25 - Loss: 0.50 | Accuracy: 0.75\n",
      "Step 30 - Loss: 0.38 | Accuracy: 0.88\n",
      "Step 35 - Loss: 0.34 | Accuracy: 0.88\n",
      "Step 40 - Loss: 0.27 | Accuracy: 0.93\n",
      "Step 45 - Loss: 0.21 | Accuracy: 0.98\n",
      "Step 50 - Loss: 0.18 | Accuracy: 0.98\n",
      "Step 55 - Loss: 0.17 | Accuracy: 0.95\n",
      "Step 60 - Loss: 0.10 | Accuracy: 0.98\n",
      "Step 65 - Loss: 0.07 | Accuracy: 0.98\n",
      "Step 70 - Loss: 0.05 | Accuracy: 1.00\n",
      "Step 75 - Loss: 0.03 | Accuracy: 1.00\n",
      "Step 80 - Loss: 0.08 | Accuracy: 0.98\n",
      "Step 85 - Loss: 0.02 | Accuracy: 1.00\n",
      "Step 90 - Loss: 0.01 | Accuracy: 1.00\n",
      "Step 95 - Loss: 0.03 | Accuracy: 1.00\n",
      "Step 100 - Loss: 0.01 | Accuracy: 1.00\n",
      "Step 105 - Loss: 0.01 | Accuracy: 1.00\n",
      "Step 110 - Loss: 0.01 | Accuracy: 1.00\n",
      "Step 115 - Loss: 0.00 | Accuracy: 1.00\n",
      "Step 120 - Loss: 0.00 | Accuracy: 1.00\n",
      "Step 125 - Loss: 0.01 | Accuracy: 1.00\n",
      "Step 130 - Loss: 0.01 | Accuracy: 1.00\n",
      "Step 135 - Loss: 0.02 | Accuracy: 1.00\n",
      "Step 140 - Loss: 0.01 | Accuracy: 1.00\n",
      "Step 145 - Loss: 0.00 | Accuracy: 1.00\n",
      "Step 150 - Loss: 0.01 | Accuracy: 1.00\n",
      "Step 155 - Loss: 0.00 | Accuracy: 1.00\n",
      "Step 160 - Loss: 0.00 | Accuracy: 1.00\n",
      "Step 165 - Loss: 0.01 | Accuracy: 1.00\n",
      "Step 170 - Loss: 0.00 | Accuracy: 1.00\n",
      "Step 175 - Loss: 0.00 | Accuracy: 1.00\n",
      "Step 180 - Loss: 0.00 | Accuracy: 1.00\n",
      "Step 185 - Loss: 0.00 | Accuracy: 1.00\n",
      "Step 190 - Loss: 0.01 | Accuracy: 1.00\n",
      "Step 195 - Loss: 0.00 | Accuracy: 1.00\n"
     ]
    }
   ],
   "source": [
    "epochs = 200\n",
    "    \n",
    "sess = tf.Session()\n",
    "sess.run(tf.global_variables_initializer())\n",
    "\n",
    "for i in range(epochs):\n",
    "    sess.run([trainer], feed_dict={x:X_train/255., y:y_train, keep_prob:0.6})\n",
    "    [acc, l] = sess.run([accuracy, loss], feed_dict={x:X_train/255., y:y_train, keep_prob:1})\n",
    "    \n",
    "    if i%5==0:\n",
    "        print('Step %d - Loss: %.2f | Accuracy: %.2f'%(i,np.mean(l),acc))"
   ]
  },
  {
   "cell_type": "code",
   "execution_count": 51,
   "metadata": {
    "colab": {
     "base_uri": "https://localhost:8080/",
     "height": 35
    },
    "colab_type": "code",
    "id": "SPbkD75CXBX1",
    "outputId": "437e5bf9-c145-473f-9cf9-1b4b770cdd77"
   },
   "outputs": [
    {
     "name": "stdout",
     "output_type": "stream",
     "text": [
      "0.65\n"
     ]
    }
   ],
   "source": [
    "# Evaluation & Final accuracy and loss for 200 iterations\n",
    "    \n",
    "[yh] = sess.run([logits], feed_dict={x:X_train, y:y_train, keep_prob:1})\n",
    "pred_class_train = np.argmax(yh, axis=1)\n",
    "\n",
    "[yh_val] = sess.run([logits], feed_dict={x:X_test, keep_prob:1})\n",
    "pred_class_val = np.argmax(yh_val, axis=1)\n",
    "\n",
    "cm_val = confusion_matrix(y_true=y_test, y_pred=pred_class_val)\n",
    "acc_val = np.trace(cm_val)/np.sum(cm_val)\n",
    "print(acc_val)"
   ]
  },
  {
   "cell_type": "markdown",
   "metadata": {
    "colab_type": "text",
    "id": "flve0gojKQz7"
   },
   "source": [
    "###Training for 300 epochs/iterations :"
   ]
  },
  {
   "cell_type": "code",
   "execution_count": 52,
   "metadata": {
    "colab": {
     "base_uri": "https://localhost:8080/",
     "height": 1057
    },
    "colab_type": "code",
    "id": "a-TUbIDfKNr9",
    "outputId": "f3101ccf-d269-40f6-8586-426da4137fd2"
   },
   "outputs": [
    {
     "name": "stdout",
     "output_type": "stream",
     "text": [
      "Step 0 - Loss: 0.73 | Accuracy: 0.35\n",
      "Step 5 - Loss: 0.68 | Accuracy: 0.62\n",
      "Step 10 - Loss: 0.65 | Accuracy: 0.70\n",
      "Step 15 - Loss: 0.59 | Accuracy: 0.65\n",
      "Step 20 - Loss: 0.55 | Accuracy: 0.73\n",
      "Step 25 - Loss: 0.50 | Accuracy: 0.75\n",
      "Step 30 - Loss: 0.38 | Accuracy: 0.88\n",
      "Step 35 - Loss: 0.34 | Accuracy: 0.88\n",
      "Step 40 - Loss: 0.27 | Accuracy: 0.93\n",
      "Step 45 - Loss: 0.21 | Accuracy: 0.98\n",
      "Step 50 - Loss: 0.18 | Accuracy: 0.98\n",
      "Step 55 - Loss: 0.17 | Accuracy: 0.95\n",
      "Step 60 - Loss: 0.10 | Accuracy: 0.98\n",
      "Step 65 - Loss: 0.07 | Accuracy: 0.98\n",
      "Step 70 - Loss: 0.05 | Accuracy: 1.00\n",
      "Step 75 - Loss: 0.03 | Accuracy: 1.00\n",
      "Step 80 - Loss: 0.08 | Accuracy: 0.98\n",
      "Step 85 - Loss: 0.02 | Accuracy: 1.00\n",
      "Step 90 - Loss: 0.01 | Accuracy: 1.00\n",
      "Step 95 - Loss: 0.03 | Accuracy: 1.00\n",
      "Step 100 - Loss: 0.01 | Accuracy: 1.00\n",
      "Step 105 - Loss: 0.01 | Accuracy: 1.00\n",
      "Step 110 - Loss: 0.01 | Accuracy: 1.00\n",
      "Step 115 - Loss: 0.00 | Accuracy: 1.00\n",
      "Step 120 - Loss: 0.00 | Accuracy: 1.00\n",
      "Step 125 - Loss: 0.01 | Accuracy: 1.00\n",
      "Step 130 - Loss: 0.01 | Accuracy: 1.00\n",
      "Step 135 - Loss: 0.02 | Accuracy: 1.00\n",
      "Step 140 - Loss: 0.01 | Accuracy: 1.00\n",
      "Step 145 - Loss: 0.00 | Accuracy: 1.00\n",
      "Step 150 - Loss: 0.01 | Accuracy: 1.00\n",
      "Step 155 - Loss: 0.00 | Accuracy: 1.00\n",
      "Step 160 - Loss: 0.00 | Accuracy: 1.00\n",
      "Step 165 - Loss: 0.01 | Accuracy: 1.00\n",
      "Step 170 - Loss: 0.00 | Accuracy: 1.00\n",
      "Step 175 - Loss: 0.00 | Accuracy: 1.00\n",
      "Step 180 - Loss: 0.00 | Accuracy: 1.00\n",
      "Step 185 - Loss: 0.00 | Accuracy: 1.00\n",
      "Step 190 - Loss: 0.01 | Accuracy: 1.00\n",
      "Step 195 - Loss: 0.00 | Accuracy: 1.00\n",
      "Step 200 - Loss: 0.00 | Accuracy: 1.00\n",
      "Step 205 - Loss: 0.00 | Accuracy: 1.00\n",
      "Step 210 - Loss: 0.00 | Accuracy: 1.00\n",
      "Step 215 - Loss: 0.00 | Accuracy: 1.00\n",
      "Step 220 - Loss: 0.00 | Accuracy: 1.00\n",
      "Step 225 - Loss: 0.00 | Accuracy: 1.00\n",
      "Step 230 - Loss: 0.00 | Accuracy: 1.00\n",
      "Step 235 - Loss: 0.01 | Accuracy: 1.00\n",
      "Step 240 - Loss: 0.00 | Accuracy: 1.00\n",
      "Step 245 - Loss: 0.00 | Accuracy: 1.00\n",
      "Step 250 - Loss: 0.00 | Accuracy: 1.00\n",
      "Step 255 - Loss: 0.00 | Accuracy: 1.00\n",
      "Step 260 - Loss: 0.00 | Accuracy: 1.00\n",
      "Step 265 - Loss: 0.00 | Accuracy: 1.00\n",
      "Step 270 - Loss: 0.00 | Accuracy: 1.00\n",
      "Step 275 - Loss: 0.00 | Accuracy: 1.00\n",
      "Step 280 - Loss: 0.00 | Accuracy: 1.00\n",
      "Step 285 - Loss: 0.00 | Accuracy: 1.00\n",
      "Step 290 - Loss: 0.00 | Accuracy: 1.00\n",
      "Step 295 - Loss: 0.00 | Accuracy: 1.00\n"
     ]
    }
   ],
   "source": [
    "epochs = 300\n",
    "    \n",
    "sess = tf.Session()\n",
    "sess.run(tf.global_variables_initializer())\n",
    "\n",
    "for i in range(epochs):\n",
    "    sess.run([trainer], feed_dict={x:X_train/255., y:y_train, keep_prob:0.6})\n",
    "    [acc, l] = sess.run([accuracy, loss], feed_dict={x:X_train/255., y:y_train, keep_prob:1})\n",
    "    \n",
    "    if i%5==0:\n",
    "        print('Step %d - Loss: %.2f | Accuracy: %.2f'%(i,np.mean(l),acc))"
   ]
  },
  {
   "cell_type": "code",
   "execution_count": 53,
   "metadata": {
    "colab": {
     "base_uri": "https://localhost:8080/",
     "height": 35
    },
    "colab_type": "code",
    "id": "dACDpP49NtkS",
    "outputId": "30b803a0-ffe6-431e-8ae3-d5010d265125"
   },
   "outputs": [
    {
     "name": "stdout",
     "output_type": "stream",
     "text": [
      "0.6\n"
     ]
    }
   ],
   "source": [
    "# Evaluation & Final accuracy and loss for 300 iterations \n",
    "\n",
    "[yh] = sess.run([logits], feed_dict={x:X_train, y:y_train, keep_prob:1})\n",
    "pred_class_train = np.argmax(yh, axis=1)\n",
    "\n",
    "[yh_val] = sess.run([logits], feed_dict={x:X_test, keep_prob:1})\n",
    "pred_class_val = np.argmax(yh_val, axis=1)\n",
    "\n",
    "cm_val = confusion_matrix(y_true=y_test, y_pred=pred_class_val)\n",
    "acc_val = np.trace(cm_val)/np.sum(cm_val)\n",
    "print(acc_val)"
   ]
  },
  {
   "cell_type": "markdown",
   "metadata": {
    "colab_type": "text",
    "id": "L3JmxWnkY1o0"
   },
   "source": [
    "#### =============================================================="
   ]
  }
 ],
 "metadata": {
  "accelerator": "GPU",
  "colab": {
   "name": "DeepLearningProject - Chandrabose111.ipynb",
   "provenance": [],
   "version": "0.3.2"
  },
  "kernelspec": {
   "display_name": "Python 3",
   "language": "python",
   "name": "python3"
  },
  "language_info": {
   "codemirror_mode": {
    "name": "ipython",
    "version": 3
   },
   "file_extension": ".py",
   "mimetype": "text/x-python",
   "name": "python",
   "nbconvert_exporter": "python",
   "pygments_lexer": "ipython3",
   "version": "3.6.5"
  }
 },
 "nbformat": 4,
 "nbformat_minor": 1
}
